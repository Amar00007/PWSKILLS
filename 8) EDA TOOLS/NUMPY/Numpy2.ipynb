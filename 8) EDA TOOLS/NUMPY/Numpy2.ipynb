{
 "cells": [
  {
   "cell_type": "code",
   "execution_count": 1,
   "id": "c2af49fd-8ee2-4c6c-a165-480708985edc",
   "metadata": {},
   "outputs": [],
   "source": [
    "import numpy as np"
   ]
  },
  {
   "cell_type": "code",
   "execution_count": 2,
   "id": "a9aef643-83bc-439a-9ac2-1a3af9789387",
   "metadata": {},
   "outputs": [],
   "source": [
    "arr=np.random.randint(1,10,(3,4))"
   ]
  },
  {
   "cell_type": "code",
   "execution_count": 3,
   "id": "27c669af-0c28-4585-8937-49680078af6d",
   "metadata": {},
   "outputs": [
    {
     "data": {
      "text/plain": [
       "array([[9, 5, 1, 7],\n",
       "       [1, 7, 9, 1],\n",
       "       [4, 1, 7, 1]])"
      ]
     },
     "execution_count": 3,
     "metadata": {},
     "output_type": "execute_result"
    }
   ],
   "source": [
    "arr"
   ]
  },
  {
   "cell_type": "code",
   "execution_count": 4,
   "id": "f99b9ff5-1d1c-4be9-979e-dffa927315cd",
   "metadata": {},
   "outputs": [
    {
     "data": {
      "text/plain": [
       "array([[9, 5],\n",
       "       [1, 7],\n",
       "       [1, 7],\n",
       "       [9, 1],\n",
       "       [4, 1],\n",
       "       [7, 1]])"
      ]
     },
     "execution_count": 4,
     "metadata": {},
     "output_type": "execute_result"
    }
   ],
   "source": [
    "arr.reshape(6,2)"
   ]
  },
  {
   "cell_type": "code",
   "execution_count": 5,
   "id": "cfd138c7-ffc3-482a-82a3-b88a51d13dba",
   "metadata": {},
   "outputs": [
    {
     "data": {
      "text/plain": [
       "array([[9, 5, 1, 7, 1, 7],\n",
       "       [9, 1, 4, 1, 7, 1]])"
      ]
     },
     "execution_count": 5,
     "metadata": {},
     "output_type": "execute_result"
    }
   ],
   "source": [
    "arr.reshape(2,6)"
   ]
  },
  {
   "cell_type": "code",
   "execution_count": 6,
   "id": "61d144e3-101f-413a-8a01-55f9d219702f",
   "metadata": {},
   "outputs": [
    {
     "data": {
      "text/plain": [
       "array([[9, 1, 4],\n",
       "       [5, 7, 1],\n",
       "       [1, 9, 7],\n",
       "       [7, 1, 1]])"
      ]
     },
     "execution_count": 6,
     "metadata": {},
     "output_type": "execute_result"
    }
   ],
   "source": [
    "arr.T"
   ]
  },
  {
   "cell_type": "code",
   "execution_count": 7,
   "id": "ff8b3d50-57a2-4b44-89d2-f2c0457206d2",
   "metadata": {},
   "outputs": [
    {
     "data": {
      "text/plain": [
       "array([[9, 5, 1, 7],\n",
       "       [1, 7, 9, 1],\n",
       "       [4, 1, 7, 1]])"
      ]
     },
     "execution_count": 7,
     "metadata": {},
     "output_type": "execute_result"
    }
   ],
   "source": [
    "arr"
   ]
  },
  {
   "cell_type": "code",
   "execution_count": 8,
   "id": "2c2fb6d9-f016-492d-ab5d-1803496864f0",
   "metadata": {},
   "outputs": [
    {
     "data": {
      "text/plain": [
       "array([9, 5, 1, 7, 1, 7, 9, 1, 4, 1, 7, 1])"
      ]
     },
     "execution_count": 8,
     "metadata": {},
     "output_type": "execute_result"
    }
   ],
   "source": [
    "arr.flatten()"
   ]
  },
  {
   "cell_type": "code",
   "execution_count": 9,
   "id": "c8057d98-50c4-4989-ae1a-1de5ea022dad",
   "metadata": {},
   "outputs": [],
   "source": [
    "arr1=np.array([1,2,3,4])"
   ]
  },
  {
   "cell_type": "code",
   "execution_count": 10,
   "id": "0f0a64ee-d498-4eed-aa9f-fa3b8a85f0b5",
   "metadata": {},
   "outputs": [
    {
     "data": {
      "text/plain": [
       "1"
      ]
     },
     "execution_count": 10,
     "metadata": {},
     "output_type": "execute_result"
    }
   ],
   "source": [
    "arr1.ndim"
   ]
  },
  {
   "cell_type": "code",
   "execution_count": 11,
   "id": "02a3e680-0748-412d-a517-8293cd31661d",
   "metadata": {},
   "outputs": [
    {
     "data": {
      "text/plain": [
       "array([1, 2, 3, 4])"
      ]
     },
     "execution_count": 11,
     "metadata": {},
     "output_type": "execute_result"
    }
   ],
   "source": [
    "arr1"
   ]
  },
  {
   "cell_type": "code",
   "execution_count": 12,
   "id": "1c3814e1-c133-4063-a861-6214796fe742",
   "metadata": {},
   "outputs": [
    {
     "data": {
      "text/plain": [
       "array([[1],\n",
       "       [2],\n",
       "       [3],\n",
       "       [4]])"
      ]
     },
     "execution_count": 12,
     "metadata": {},
     "output_type": "execute_result"
    }
   ],
   "source": [
    "np.expand_dims(arr1,axis=1)"
   ]
  },
  {
   "cell_type": "code",
   "execution_count": 13,
   "id": "708710e7-f9f9-44b1-8987-0eea53e622b9",
   "metadata": {},
   "outputs": [
    {
     "data": {
      "text/plain": [
       "array([[1, 2, 3, 4]])"
      ]
     },
     "execution_count": 13,
     "metadata": {},
     "output_type": "execute_result"
    }
   ],
   "source": [
    "np.expand_dims(arr1,axis=0)"
   ]
  },
  {
   "cell_type": "code",
   "execution_count": 14,
   "id": "fc4e62b2-5951-46f7-a314-9ec6e1b11b65",
   "metadata": {},
   "outputs": [
    {
     "data": {
      "text/plain": [
       "array([[9, 5, 1, 7],\n",
       "       [1, 7, 9, 1],\n",
       "       [4, 1, 7, 1]])"
      ]
     },
     "execution_count": 14,
     "metadata": {},
     "output_type": "execute_result"
    }
   ],
   "source": [
    "arr"
   ]
  },
  {
   "cell_type": "code",
   "execution_count": 15,
   "id": "76157f39-09fe-47cd-a42a-500f6aaf6016",
   "metadata": {},
   "outputs": [
    {
     "data": {
      "text/plain": [
       "array([[9, 5, 1, 7],\n",
       "       [1, 7, 9, 1],\n",
       "       [4, 1, 7, 1]])"
      ]
     },
     "execution_count": 15,
     "metadata": {},
     "output_type": "execute_result"
    }
   ],
   "source": [
    "np.squeeze(arr)"
   ]
  },
  {
   "cell_type": "code",
   "execution_count": 16,
   "id": "4daa07eb-95d9-403e-9e86-b55db28b7880",
   "metadata": {},
   "outputs": [],
   "source": [
    "data=np.array([[1],[2],[3]])"
   ]
  },
  {
   "cell_type": "code",
   "execution_count": 17,
   "id": "5e6f7ee0-2f9d-4752-a769-bac708fd54f2",
   "metadata": {},
   "outputs": [
    {
     "data": {
      "text/plain": [
       "array([[1],\n",
       "       [2],\n",
       "       [3]])"
      ]
     },
     "execution_count": 17,
     "metadata": {},
     "output_type": "execute_result"
    }
   ],
   "source": [
    "data"
   ]
  },
  {
   "cell_type": "code",
   "execution_count": 18,
   "id": "08d17574-4a68-41f0-8b65-033c8918ee3a",
   "metadata": {},
   "outputs": [
    {
     "data": {
      "text/plain": [
       "array([1, 2, 3])"
      ]
     },
     "execution_count": 18,
     "metadata": {},
     "output_type": "execute_result"
    }
   ],
   "source": [
    "np.squeeze(data)"
   ]
  },
  {
   "cell_type": "code",
   "execution_count": 19,
   "id": "d13309fc-46fb-4a1c-ad73-58f4577afcdb",
   "metadata": {},
   "outputs": [
    {
     "data": {
      "text/plain": [
       "array([1, 2, 3, 4])"
      ]
     },
     "execution_count": 19,
     "metadata": {},
     "output_type": "execute_result"
    }
   ],
   "source": [
    "arr1"
   ]
  },
  {
   "cell_type": "code",
   "execution_count": 20,
   "id": "d029370b-ad9f-418d-bb2b-48602ca0193e",
   "metadata": {},
   "outputs": [
    {
     "data": {
      "text/plain": [
       "array([1, 1, 1, 2, 2, 2, 3, 3, 3, 4, 4, 4])"
      ]
     },
     "execution_count": 20,
     "metadata": {},
     "output_type": "execute_result"
    }
   ],
   "source": [
    "np.repeat(arr1,3)"
   ]
  },
  {
   "cell_type": "code",
   "execution_count": 22,
   "id": "c27766dd-f67c-4ca0-880d-0677bd44f3ae",
   "metadata": {},
   "outputs": [
    {
     "data": {
      "text/plain": [
       "array([3, 4, 1, 2])"
      ]
     },
     "execution_count": 22,
     "metadata": {},
     "output_type": "execute_result"
    }
   ],
   "source": [
    "np.roll(arr1,shift=2)"
   ]
  },
  {
   "cell_type": "code",
   "execution_count": 23,
   "id": "08c91e19-26c6-4849-bde9-19cacec6a756",
   "metadata": {},
   "outputs": [
    {
     "data": {
      "text/plain": [
       "array([[1, 0, 0, 0],\n",
       "       [0, 2, 0, 0],\n",
       "       [0, 0, 3, 0],\n",
       "       [0, 0, 0, 4]])"
      ]
     },
     "execution_count": 23,
     "metadata": {},
     "output_type": "execute_result"
    }
   ],
   "source": [
    "np.diag(arr1)"
   ]
  },
  {
   "cell_type": "code",
   "execution_count": 24,
   "id": "802db22e-443e-49c6-8f88-45ffcdd0a98e",
   "metadata": {},
   "outputs": [],
   "source": [
    "#Numpy Binary Operation"
   ]
  },
  {
   "cell_type": "code",
   "execution_count": 25,
   "id": "a023345d-9f19-40d7-904e-bb6e6a7a6783",
   "metadata": {},
   "outputs": [],
   "source": [
    "arr1=np.random.randint(1,10,(3,4))"
   ]
  },
  {
   "cell_type": "code",
   "execution_count": 26,
   "id": "7ac61896-b2f1-4a5f-a0db-8043d60f5c76",
   "metadata": {},
   "outputs": [],
   "source": [
    "arr2=np.random.randint(1,10,(3,4))"
   ]
  },
  {
   "cell_type": "code",
   "execution_count": 27,
   "id": "3edeb24e-2111-48a0-b1e2-59c2c8453bf8",
   "metadata": {},
   "outputs": [
    {
     "data": {
      "text/plain": [
       "array([[8, 2, 7, 3],\n",
       "       [5, 6, 2, 3],\n",
       "       [2, 6, 9, 1]])"
      ]
     },
     "execution_count": 27,
     "metadata": {},
     "output_type": "execute_result"
    }
   ],
   "source": [
    "arr1"
   ]
  },
  {
   "cell_type": "code",
   "execution_count": 28,
   "id": "5f1e2c12-9f34-4047-8bf0-26401b6d11fe",
   "metadata": {},
   "outputs": [
    {
     "data": {
      "text/plain": [
       "array([[6, 1, 8, 5],\n",
       "       [1, 1, 5, 1],\n",
       "       [1, 2, 5, 6]])"
      ]
     },
     "execution_count": 28,
     "metadata": {},
     "output_type": "execute_result"
    }
   ],
   "source": [
    "arr2"
   ]
  },
  {
   "cell_type": "code",
   "execution_count": 29,
   "id": "bff6802f-4edd-4290-8e15-df0adec264e8",
   "metadata": {},
   "outputs": [
    {
     "data": {
      "text/plain": [
       "array([[14,  3, 15,  8],\n",
       "       [ 6,  7,  7,  4],\n",
       "       [ 3,  8, 14,  7]])"
      ]
     },
     "execution_count": 29,
     "metadata": {},
     "output_type": "execute_result"
    }
   ],
   "source": [
    "arr1+arr2"
   ]
  },
  {
   "cell_type": "code",
   "execution_count": 30,
   "id": "fe2efdbb-1033-400a-94c0-aa8c0c9edb81",
   "metadata": {},
   "outputs": [
    {
     "data": {
      "text/plain": [
       "array([[48,  2, 56, 15],\n",
       "       [ 5,  6, 10,  3],\n",
       "       [ 2, 12, 45,  6]])"
      ]
     },
     "execution_count": 30,
     "metadata": {},
     "output_type": "execute_result"
    }
   ],
   "source": [
    "arr1*arr2"
   ]
  },
  {
   "cell_type": "code",
   "execution_count": 31,
   "id": "65046b3c-b16e-42fa-bcb3-9f636d044f61",
   "metadata": {},
   "outputs": [
    {
     "data": {
      "text/plain": [
       "array([[1.33333333, 2.        , 0.875     , 0.6       ],\n",
       "       [5.        , 6.        , 0.4       , 3.        ],\n",
       "       [2.        , 3.        , 1.8       , 0.16666667]])"
      ]
     },
     "execution_count": 31,
     "metadata": {},
     "output_type": "execute_result"
    }
   ],
   "source": [
    "arr1/arr2"
   ]
  },
  {
   "cell_type": "code",
   "execution_count": 32,
   "id": "28f1eb76-22a0-4186-8d60-4d50a5c555c2",
   "metadata": {},
   "outputs": [
    {
     "data": {
      "text/plain": [
       "array([[ 2,  1, -1, -2],\n",
       "       [ 4,  5, -3,  2],\n",
       "       [ 1,  4,  4, -5]])"
      ]
     },
     "execution_count": 32,
     "metadata": {},
     "output_type": "execute_result"
    }
   ],
   "source": [
    "arr1-arr2"
   ]
  },
  {
   "cell_type": "code",
   "execution_count": 33,
   "id": "6daba956-aff7-40a5-8d17-5c518c01c693",
   "metadata": {},
   "outputs": [
    {
     "data": {
      "text/plain": [
       "array([[2, 0, 7, 3],\n",
       "       [0, 0, 2, 0],\n",
       "       [0, 0, 4, 1]])"
      ]
     },
     "execution_count": 33,
     "metadata": {},
     "output_type": "execute_result"
    }
   ],
   "source": [
    "arr1%arr2"
   ]
  },
  {
   "cell_type": "code",
   "execution_count": 34,
   "id": "d6594c3d-830b-4b83-86a5-e9b0a5bbc51d",
   "metadata": {},
   "outputs": [
    {
     "data": {
      "text/plain": [
       "array([[ 262144,       2, 5764801,     243],\n",
       "       [      5,       6,      32,       3],\n",
       "       [      2,      36,   59049,       1]])"
      ]
     },
     "execution_count": 34,
     "metadata": {},
     "output_type": "execute_result"
    }
   ],
   "source": [
    "arr1**arr2"
   ]
  },
  {
   "cell_type": "code",
   "execution_count": 35,
   "id": "2759a3b6-a787-4449-b95d-c0d1962d46af",
   "metadata": {},
   "outputs": [
    {
     "data": {
      "text/plain": [
       "array([[0, 0, 0, 1],\n",
       "       [1, 0, 0, 1],\n",
       "       [0, 2, 1, 0]])"
      ]
     },
     "execution_count": 35,
     "metadata": {},
     "output_type": "execute_result"
    }
   ],
   "source": [
    "arr1&arr2"
   ]
  },
  {
   "cell_type": "code",
   "execution_count": 36,
   "id": "1495f3bf-d488-420a-bc7e-4f8a8b1892d6",
   "metadata": {},
   "outputs": [
    {
     "data": {
      "text/plain": [
       "array([[ -9,  -3,  -8,  -4],\n",
       "       [ -6,  -7,  -3,  -4],\n",
       "       [ -3,  -7, -10,  -2]])"
      ]
     },
     "execution_count": 36,
     "metadata": {},
     "output_type": "execute_result"
    }
   ],
   "source": [
    "~arr1"
   ]
  },
  {
   "cell_type": "code",
   "execution_count": 37,
   "id": "4152a1af-8179-4801-8dfd-e4f0fdd8487b",
   "metadata": {},
   "outputs": [
    {
     "data": {
      "text/plain": [
       "array([[14,  3, 15,  7],\n",
       "       [ 5,  7,  7,  3],\n",
       "       [ 3,  6, 13,  7]])"
      ]
     },
     "execution_count": 37,
     "metadata": {},
     "output_type": "execute_result"
    }
   ],
   "source": [
    "arr1|arr2"
   ]
  },
  {
   "cell_type": "code",
   "execution_count": 38,
   "id": "0ecbec3d-3999-4daf-83b8-ec5829d22779",
   "metadata": {},
   "outputs": [
    {
     "data": {
      "text/plain": [
       "array([[ True,  True, False, False],\n",
       "       [ True,  True, False,  True],\n",
       "       [ True,  True,  True, False]])"
      ]
     },
     "execution_count": 38,
     "metadata": {},
     "output_type": "execute_result"
    }
   ],
   "source": [
    "arr1>arr2"
   ]
  },
  {
   "cell_type": "code",
   "execution_count": 39,
   "id": "4178df3d-db69-4af2-be9e-e6a4fbeed41b",
   "metadata": {},
   "outputs": [],
   "source": [
    "#Numpy String Function"
   ]
  },
  {
   "cell_type": "code",
   "execution_count": 40,
   "id": "9c04a282-0cf0-4302-a549-b3150b090152",
   "metadata": {},
   "outputs": [],
   "source": [
    "arr=np.array(['amar','kumar'])"
   ]
  },
  {
   "cell_type": "code",
   "execution_count": 41,
   "id": "f47605de-adb0-4afa-be7a-7f0618adab7a",
   "metadata": {},
   "outputs": [
    {
     "data": {
      "text/plain": [
       "array(['amar', 'kumar'], dtype='<U5')"
      ]
     },
     "execution_count": 41,
     "metadata": {},
     "output_type": "execute_result"
    }
   ],
   "source": [
    "arr"
   ]
  },
  {
   "cell_type": "code",
   "execution_count": 42,
   "id": "5562a49b-dfc5-4f53-ac04-7dc7d59f8002",
   "metadata": {},
   "outputs": [
    {
     "data": {
      "text/plain": [
       "array(['AMAR', 'KUMAR'], dtype='<U5')"
      ]
     },
     "execution_count": 42,
     "metadata": {},
     "output_type": "execute_result"
    }
   ],
   "source": [
    "np.char.upper(arr)"
   ]
  },
  {
   "cell_type": "code",
   "execution_count": 43,
   "id": "7b778864-5326-4063-bd52-4bf961dac382",
   "metadata": {},
   "outputs": [
    {
     "data": {
      "text/plain": [
       "array(['Amar', 'Kumar'], dtype='<U5')"
      ]
     },
     "execution_count": 43,
     "metadata": {},
     "output_type": "execute_result"
    }
   ],
   "source": [
    "np.char.title(arr)"
   ]
  },
  {
   "cell_type": "code",
   "execution_count": 44,
   "id": "c33fb743-571e-4641-a29a-c77879fbe581",
   "metadata": {},
   "outputs": [
    {
     "data": {
      "text/plain": [
       "array(['Amar', 'Kumar'], dtype='<U5')"
      ]
     },
     "execution_count": 44,
     "metadata": {},
     "output_type": "execute_result"
    }
   ],
   "source": [
    "np.char.capitalize(arr)"
   ]
  },
  {
   "cell_type": "code",
   "execution_count": 45,
   "id": "3cefd49d-7e10-4658-828d-312946ba1a2d",
   "metadata": {},
   "outputs": [],
   "source": [
    "#Numpy Mathematical functions"
   ]
  },
  {
   "cell_type": "code",
   "execution_count": 46,
   "id": "417f92ef-0188-4999-aadf-cb2e1010cb05",
   "metadata": {},
   "outputs": [
    {
     "data": {
      "text/plain": [
       "array([[8, 2, 7, 3],\n",
       "       [5, 6, 2, 3],\n",
       "       [2, 6, 9, 1]])"
      ]
     },
     "execution_count": 46,
     "metadata": {},
     "output_type": "execute_result"
    }
   ],
   "source": [
    "arr1"
   ]
  },
  {
   "cell_type": "code",
   "execution_count": 48,
   "id": "a591204a-bcb8-4b82-958e-446db5251242",
   "metadata": {},
   "outputs": [
    {
     "data": {
      "text/plain": [
       "array([[ 0.98935825,  0.90929743,  0.6569866 ,  0.14112001],\n",
       "       [-0.95892427, -0.2794155 ,  0.90929743,  0.14112001],\n",
       "       [ 0.90929743, -0.2794155 ,  0.41211849,  0.84147098]])"
      ]
     },
     "execution_count": 48,
     "metadata": {},
     "output_type": "execute_result"
    }
   ],
   "source": [
    "np.sin(arr1)"
   ]
  },
  {
   "cell_type": "code",
   "execution_count": 49,
   "id": "d41da8bc-1f98-4afe-88b0-782f8b913121",
   "metadata": {},
   "outputs": [
    {
     "data": {
      "text/plain": [
       "array([[-0.14550003, -0.41614684,  0.75390225, -0.9899925 ],\n",
       "       [ 0.28366219,  0.96017029, -0.41614684, -0.9899925 ],\n",
       "       [-0.41614684,  0.96017029, -0.91113026,  0.54030231]])"
      ]
     },
     "execution_count": 49,
     "metadata": {},
     "output_type": "execute_result"
    }
   ],
   "source": [
    "np.cos(arr1)"
   ]
  },
  {
   "cell_type": "code",
   "execution_count": 50,
   "id": "f21dab36-6ce7-4731-99e2-87a145303a73",
   "metadata": {},
   "outputs": [
    {
     "data": {
      "text/plain": [
       "array([[-6.79971146, -2.18503986,  0.87144798, -0.14254654],\n",
       "       [-3.38051501, -0.29100619, -2.18503986, -0.14254654],\n",
       "       [-2.18503986, -0.29100619, -0.45231566,  1.55740772]])"
      ]
     },
     "execution_count": 50,
     "metadata": {},
     "output_type": "execute_result"
    }
   ],
   "source": [
    "np.tan(arr1)"
   ]
  },
  {
   "cell_type": "code",
   "execution_count": 51,
   "id": "5ce7caba-a1d8-478b-ad60-11b923da231c",
   "metadata": {},
   "outputs": [
    {
     "data": {
      "text/plain": [
       "array([[0.99999977, 0.96402758, 0.99999834, 0.99505475],\n",
       "       [0.9999092 , 0.99998771, 0.96402758, 0.99505475],\n",
       "       [0.96402758, 0.99998771, 0.99999997, 0.76159416]])"
      ]
     },
     "execution_count": 51,
     "metadata": {},
     "output_type": "execute_result"
    }
   ],
   "source": [
    "np.tanh(arr1)"
   ]
  },
  {
   "cell_type": "code",
   "execution_count": 52,
   "id": "908fef40-01f8-46f4-b236-f61e2e89e827",
   "metadata": {},
   "outputs": [
    {
     "data": {
      "text/plain": [
       "array([[2.07944154, 0.69314718, 1.94591015, 1.09861229],\n",
       "       [1.60943791, 1.79175947, 0.69314718, 1.09861229],\n",
       "       [0.69314718, 1.79175947, 2.19722458, 0.        ]])"
      ]
     },
     "execution_count": 52,
     "metadata": {},
     "output_type": "execute_result"
    }
   ],
   "source": [
    "np.log(arr1)"
   ]
  },
  {
   "cell_type": "code",
   "execution_count": 53,
   "id": "c840d945-4d13-42d2-b5af-21fb80993fde",
   "metadata": {},
   "outputs": [
    {
     "data": {
      "text/plain": [
       "array([[2.98095799e+03, 7.38905610e+00, 1.09663316e+03, 2.00855369e+01],\n",
       "       [1.48413159e+02, 4.03428793e+02, 7.38905610e+00, 2.00855369e+01],\n",
       "       [7.38905610e+00, 4.03428793e+02, 8.10308393e+03, 2.71828183e+00]])"
      ]
     },
     "execution_count": 53,
     "metadata": {},
     "output_type": "execute_result"
    }
   ],
   "source": [
    "np.exp(arr1)"
   ]
  },
  {
   "cell_type": "code",
   "execution_count": 54,
   "id": "aa8b542a-31d0-4656-a6c7-9875aba217db",
   "metadata": {},
   "outputs": [
    {
     "data": {
      "text/plain": [
       "array([[2.82842712, 1.41421356, 2.64575131, 1.73205081],\n",
       "       [2.23606798, 2.44948974, 1.41421356, 1.73205081],\n",
       "       [1.41421356, 2.44948974, 3.        , 1.        ]])"
      ]
     },
     "execution_count": 54,
     "metadata": {},
     "output_type": "execute_result"
    }
   ],
   "source": [
    "np.sqrt(arr1)"
   ]
  },
  {
   "cell_type": "code",
   "execution_count": 57,
   "id": "a266ea38-699d-44a2-8450-813a55246152",
   "metadata": {},
   "outputs": [
    {
     "data": {
      "text/plain": [
       "array([[64,  4, 49,  9],\n",
       "       [25, 36,  4,  9],\n",
       "       [ 4, 36, 81,  1]])"
      ]
     },
     "execution_count": 57,
     "metadata": {},
     "output_type": "execute_result"
    }
   ],
   "source": [
    "np.power(arr1,2)"
   ]
  },
  {
   "cell_type": "code",
   "execution_count": 58,
   "id": "58ba304c-7f91-4acd-a024-ac5a51365a48",
   "metadata": {},
   "outputs": [
    {
     "data": {
      "text/plain": [
       "4.5"
      ]
     },
     "execution_count": 58,
     "metadata": {},
     "output_type": "execute_result"
    }
   ],
   "source": [
    "np.mean(arr1)"
   ]
  },
  {
   "cell_type": "code",
   "execution_count": 59,
   "id": "1ee7270d-deb6-4eff-8dd2-179d32ced76d",
   "metadata": {},
   "outputs": [
    {
     "data": {
      "text/plain": [
       "4.0"
      ]
     },
     "execution_count": 59,
     "metadata": {},
     "output_type": "execute_result"
    }
   ],
   "source": [
    "np.median(arr1)"
   ]
  },
  {
   "cell_type": "code",
   "execution_count": 60,
   "id": "c3b6c1a2-68cf-432a-8e5e-df07b9fb62ad",
   "metadata": {},
   "outputs": [
    {
     "data": {
      "text/plain": [
       "2.565800719723442"
      ]
     },
     "execution_count": 60,
     "metadata": {},
     "output_type": "execute_result"
    }
   ],
   "source": [
    "np.std(arr1)"
   ]
  },
  {
   "cell_type": "code",
   "execution_count": 61,
   "id": "5bb99317-d2ed-4819-97cb-3618004714a9",
   "metadata": {},
   "outputs": [
    {
     "data": {
      "text/plain": [
       "6.583333333333333"
      ]
     },
     "execution_count": 61,
     "metadata": {},
     "output_type": "execute_result"
    }
   ],
   "source": [
    "np.var(arr1)"
   ]
  },
  {
   "cell_type": "code",
   "execution_count": 63,
   "id": "94e1fc44-2731-4785-95e6-cf477f65f027",
   "metadata": {},
   "outputs": [
    {
     "data": {
      "text/plain": [
       "1"
      ]
     },
     "execution_count": 63,
     "metadata": {},
     "output_type": "execute_result"
    }
   ],
   "source": [
    "np.min(arr1)"
   ]
  },
  {
   "cell_type": "code",
   "execution_count": 64,
   "id": "0bdfdba8-5999-4365-acec-3fcfbf0647c5",
   "metadata": {},
   "outputs": [
    {
     "data": {
      "text/plain": [
       "9"
      ]
     },
     "execution_count": 64,
     "metadata": {},
     "output_type": "execute_result"
    }
   ],
   "source": [
    "np.max(arr1)"
   ]
  },
  {
   "cell_type": "code",
   "execution_count": null,
   "id": "0e25b0ad-093d-423e-8963-56383407a808",
   "metadata": {},
   "outputs": [],
   "source": []
  }
 ],
 "metadata": {
  "kernelspec": {
   "display_name": "Python 3 (ipykernel)",
   "language": "python",
   "name": "python3"
  },
  "language_info": {
   "codemirror_mode": {
    "name": "ipython",
    "version": 3
   },
   "file_extension": ".py",
   "mimetype": "text/x-python",
   "name": "python",
   "nbconvert_exporter": "python",
   "pygments_lexer": "ipython3",
   "version": "3.10.8"
  }
 },
 "nbformat": 4,
 "nbformat_minor": 5
}
