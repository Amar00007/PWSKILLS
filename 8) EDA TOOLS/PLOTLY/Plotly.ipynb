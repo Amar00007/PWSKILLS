{
 "cells": [
  {
   "cell_type": "markdown",
   "id": "9bf6bd17-7e94-4d2f-b9cf-f83c92d3cdbb",
   "metadata": {},
   "source": [
    "To see the output we will use google collab as it will not work in the lab\n"
   ]
  },
  {
   "cell_type": "markdown",
   "id": "f0c45f6e-a04e-403a-bb9d-46bc29c12b1b",
   "metadata": {},
   "source": [
    "import plotly.graph_objects as go"
   ]
  },
  {
   "cell_type": "markdown",
   "id": "4ae6cb3c-7a87-4abd-837a-e349bce21cf7",
   "metadata": {},
   "source": [
    "pip install plotly\n"
   ]
  },
  {
   "cell_type": "markdown",
   "id": "c73cd6ac-775f-4058-9b38-fff6fc5756a1",
   "metadata": {},
   "source": [
    "fig=go.Figure()\n",
    "fig.add_trace(go.Scatter(x=[1,2,3,4,5],y=[3,4,5,6,7],mode='markers'))\n",
    "fig.show()"
   ]
  },
  {
   "cell_type": "markdown",
   "id": "613f6d17-af7d-4bdb-a565-06aa68217178",
   "metadata": {},
   "source": [
    "fig=go.Figure()\n",
    "fig.add_trace(go.Scatter(x=[1,2,3,4,5],y=[3,4,5,6,7],mode='lines'))\n",
    "fig.show()"
   ]
  },
  {
   "cell_type": "markdown",
   "id": "85438650-2aa4-4ee4-bd10-308779c5d79f",
   "metadata": {},
   "source": [
    "fig=go.Figure()\n",
    "fig.add_trace(go.Bar(x=[1,2,3,4,5],y=[3,4,5,6,7]))\n",
    "fig.show()"
   ]
  },
  {
   "cell_type": "markdown",
   "id": "214ed8fd-f28b-474e-954a-4d5696887941",
   "metadata": {},
   "source": [
    "x=[1,2,3,4,4,5,6,7,4,5,6,8,9,3,8]"
   ]
  },
  {
   "cell_type": "markdown",
   "id": "e0c1160c-d5aa-49a2-9f33-8e38fb93ed33",
   "metadata": {},
   "source": [
    "fig=go.Figure(data=[go.Histogram(x=x)])\n",
    "fig.show()"
   ]
  },
  {
   "cell_type": "markdown",
   "id": "eca6adc8-169c-4411-82b8-86a8dcbeddbb",
   "metadata": {},
   "source": [
    "fig=go.Figure()\n",
    "fig.add_trace(go.Histogram(x=x))\n",
    "fig.show()"
   ]
  },
  {
   "cell_type": "markdown",
   "id": "56dd6d37-06a6-4490-b86b-a8e01c542bbd",
   "metadata": {},
   "source": [
    "import seaborn as sns"
   ]
  },
  {
   "cell_type": "markdown",
   "id": "993c1d20-15b0-4e9d-9b16-d3144231fb52",
   "metadata": {},
   "source": [
    "tips=sns.load_dataset('tips')"
   ]
  },
  {
   "cell_type": "markdown",
   "id": "ca712fc1-2043-4ac1-9589-5aa19b7c7141",
   "metadata": {},
   "source": [
    "fig=go.Figure()\n",
    "fig.add_trace(go.Histogram(x=tips.total_bill))\n",
    "fig.show()"
   ]
  },
  {
   "cell_type": "markdown",
   "id": "13840b20-5fc3-4fe7-8c24-7d6d2ff50356",
   "metadata": {},
   "source": [
    "fig=go.Figure()\n",
    "fig.add_trace(go.Scatter(x=tips.total_bill,y=tips.tip,mode='markers'))\n",
    "fig.show()"
   ]
  },
  {
   "cell_type": "markdown",
   "id": "937a1795-9cfd-4560-864f-d4fb2871a631",
   "metadata": {},
   "source": [
    "fig=go.Figure()\n",
    "fig.add_trace(go.Scatter(x=tips.total_bill,y=tips.tip,mode='markers',marker_size=50*tips['size']))\n",
    "fig.show()"
   ]
  },
  {
   "cell_type": "markdown",
   "id": "64ee8f08-8f86-4833-99ec-0000c3cd54c5",
   "metadata": {},
   "source": [
    "fig=go.Figure()\n",
    "fig.add_trace(go.Scatter(x=tips.total_bill,y=tips.tip,mode='markers',marker_size=10*tips['size']))\n",
    "fig.show()"
   ]
  },
  {
   "cell_type": "markdown",
   "id": "23fbe197-e217-4e8a-858e-65e4de19327f",
   "metadata": {},
   "source": [
    "fig=go.Figure()\n",
    "fig.add_trace(go.Scatter3d(x=tips.total_bill,y=tips.tip,z=tips['size'],mode='markers'))\n",
    "fig.show()"
   ]
  },
  {
   "cell_type": "markdown",
   "id": "f0414490-4b55-418b-b3f2-431be83beb3a",
   "metadata": {},
   "source": [
    "fig=go.Figure()\n",
    "fig.add_trace(go.Scatter3d(x=[1,2,3,4],y=[5,6,5,7],z=[2,3,4,2],mode='lines'))\n",
    "fig.show()"
   ]
  },
  {
   "cell_type": "markdown",
   "id": "5c765187-5b39-4228-b6c8-580a5fda1ab2",
   "metadata": {},
   "source": [
    "fig=go.Figure()\n",
    "fig.add_trace(go.Scatter3d(x=[1,2,3,4],y=[5,6,5,7],z=[2,3,4,2],mode='markers'))\n",
    "fig.show()"
   ]
  },
  {
   "cell_type": "markdown",
   "id": "cb4b07d5-3ab0-4f76-907d-e8a106ddc06e",
   "metadata": {},
   "source": [
    "fig=go.Figure()\n",
    "fig.add_trace(go.Scatter3d(x=tips.total_bill,y=tips.tip,z=tips['size'],mode='lines'))\n",
    "fig.show()"
   ]
  },
  {
   "cell_type": "code",
   "execution_count": null,
   "id": "e63c05ca-2f5c-4e42-b27b-0001c88b9062",
   "metadata": {},
   "outputs": [],
   "source": []
  }
 ],
 "metadata": {
  "kernelspec": {
   "display_name": "Python 3 (ipykernel)",
   "language": "python",
   "name": "python3"
  },
  "language_info": {
   "codemirror_mode": {
    "name": "ipython",
    "version": 3
   },
   "file_extension": ".py",
   "mimetype": "text/x-python",
   "name": "python",
   "nbconvert_exporter": "python",
   "pygments_lexer": "ipython3",
   "version": "3.10.8"
  }
 },
 "nbformat": 4,
 "nbformat_minor": 5
}
